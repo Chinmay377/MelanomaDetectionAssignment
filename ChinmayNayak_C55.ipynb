{
 "cells": [
  {
   "cell_type": "markdown",
   "id": "31b15e83",
   "metadata": {},
   "source": [
    "### Problem statement: \n",
    "To build a CNN based model which can accurately detect melanoma. Melanoma is a type of cancer that can be deadly if not detected early. It accounts for 75% of skin cancer deaths. A solution which can evaluate images and alert the dermatologists about the presence of melanoma has the potential to reduce a lot of manual effort needed in diagnosis."
   ]
  },
  {
   "cell_type": "code",
   "execution_count": null,
   "id": "65cc9b21",
   "metadata": {},
   "outputs": [],
   "source": [
    "#mount google drive\n",
    "from google.colab import drive\n",
    "drive.mount('/content/gdrive')"
   ]
  },
  {
   "cell_type": "code",
   "execution_count": null,
   "id": "26302fd4",
   "metadata": {},
   "outputs": [],
   "source": [
    "#unzip the dataset\n",
    "!unzip \"/content/gdrive/MyDrive/SkinCancerDataset.zip\" > /dev/null"
   ]
  },
  {
   "cell_type": "markdown",
   "id": "022c1063",
   "metadata": {},
   "source": [
    "### Data Summary:\n",
    "\n",
    "The data set contains the following diseases:\n",
    "Actinic keratosis\n",
    "Basal cell carcinoma\n",
    "Dermatofibroma\n",
    "Melanoma\n",
    "Nevus\n",
    "Pigmented benign keratosis\n",
    "Seborrheic keratosis\n",
    "Squamous cell carcinoma \n",
    "Vascular lesion\n",
    "\n",
    "#### Importing Skin Cancer Data\n",
    "\n",
    "#### Importing all the important libraries"
   ]
  },
  {
   "cell_type": "code",
   "execution_count": null,
   "id": "3b4eca56",
   "metadata": {},
   "outputs": [],
   "source": [
    "import pathlib\n",
    "import tensorflow as tf\n",
    "import matplotlib.pyplot as plt\n",
    "import numpy as np\n",
    "import pandas as pd\n",
    "import os\n",
    "from glob import glob\n",
    "import PIL\n",
    "from tensorflow import keras\n",
    "from tensorflow.keras import layers\n",
    "from tensorflow.keras.models import Sequential\n",
    "from tensorflow.python.keras.layers.normalization import BatchNormalization\n",
    "from tensorflow.python.keras.layers import Dense, Dropout, Activation, Flatten, Conv2D, MaxPool2D\n",
    "from tensorflow.keras.layers.experimental.preprocessing import Rescaling\n",
    "from keras.preprocessing.image import ImageDataGenerator\n",
    "from keras.optimizers import Adam\n",
    "from keras.callbacks import ReduceLROnPlateau\n",
    "from keras.utils.np_utils import to_categorical # convert to one-hot-encoding"
   ]
  },
  {
   "cell_type": "markdown",
   "id": "c405a703",
   "metadata": {},
   "source": [
    "This assignment uses a dataset of about 2357 images of skin cancer types. The dataset contains 9 sub-directories in each train and test subdirectories. The 9 sub-directories contains the images of 9 skin cancer types respectively."
   ]
  },
  {
   "cell_type": "code",
   "execution_count": null,
   "id": "ed507dbe",
   "metadata": {},
   "outputs": [],
   "source": [
    "# Defining the path for train and test images\n",
    "data_dir_train = pathlib.Path(\"/content/Skin cancer ISIC The International Skin Imaging Collaboration/Train/\")\n",
    "data_dir_test = pathlib.Path(\"/content/Skin cancer ISIC The International Skin Imaging Collaboration/Test/\")"
   ]
  },
  {
   "cell_type": "code",
   "execution_count": null,
   "id": "b540b0ed",
   "metadata": {},
   "outputs": [],
   "source": [
    "# Count the number of image in Train and Test directory\n",
    "# Using the glob to retrieve files/pathnames matching a specified pattern.\n",
    "\n",
    "#Train Image count\n",
    "image_count_train = len(list(data_dir_train.glob('*/*.jpg')))\n",
    "print(image_count_train)\n",
    "\n",
    "#Test Image count\n",
    "image_count_test = len(list(data_dir_test.glob('*/*.jpg')))\n",
    "print(image_count_test)"
   ]
  },
  {
   "cell_type": "markdown",
   "id": "8e23a56e",
   "metadata": {},
   "source": [
    "### Data Visualization"
   ]
  },
  {
   "cell_type": "code",
   "execution_count": null,
   "id": "bf0f2e91",
   "metadata": {},
   "outputs": [],
   "source": [
    "#Visualize one instance of all the class present in the dataset.\n",
    "\n",
    "#image_dataset_from_directory() will return a tf.data.Dataset that yields batches of images from the subdirectories.\n",
    "#label_mode is categorial, the labels are a float32 tensor of shape (batch_size, num_classes), representing a one-hot encoding of the class index.\n",
    "image_dataset = tf.keras.preprocessing.image_dataset_from_directory(data_dir_train,batch_size=32,image_size=(180,180),\n",
    "                                                                    label_mode='categorical',seed=123)\n",
    "\n",
    "#all the classes of Skin Cancer\n",
    "class_names = image_dataset.class_names\n",
    "\n",
    "#Dictionary to store the path of image as per the class\n",
    "files_path_dict = {}\n",
    "\n",
    "for c in class_names:\n",
    "    files_path_dict[c] = list(map(lambda x:str(data_dir_train)+'/'+c+'/'+x,os.listdir(str(data_dir_train)+'/'+c)))\n",
    "    \n",
    "#Visualize image \n",
    "plt.figure(figsize=(15,15))\n",
    "index = 0\n",
    "for c in class_names:\n",
    "    path_list = files_path_dict[c][:1]\n",
    "    index += 1\n",
    "    plt.subplot(3,3,index)\n",
    "    plt.imshow(load_img(path_list[0],target_size=(180,180)))\n",
    "    plt.title(c)\n",
    "    plt.axis(\"off\")"
   ]
  },
  {
   "cell_type": "markdown",
   "id": "9e1f6408",
   "metadata": {},
   "source": [
    "### Visualize distribution of classes in the training dataset."
   ]
  },
  {
   "cell_type": "code",
   "execution_count": null,
   "id": "f5edd6b1",
   "metadata": {},
   "outputs": [],
   "source": [
    "def class_distribution_count(directory):\n",
    "    \n",
    "    #count number of image in each classes\n",
    "    count= []\n",
    "    for path in pathlib.Path(directory).iterdir():\n",
    "        if path.is_dir():\n",
    "            count.append(len([name for name in os.listdir(path)\n",
    "                               if os.path.isfile(os.path.join(path, name))]))\n",
    "    \n",
    "    #name of the classes\n",
    "    sub_directory = [name for name in os.listdir(directory)\n",
    "                    if os.path.isdir(os.path.join(directory, name))]\n",
    "    \n",
    "    #return dataframe with image count and class.\n",
    "    return pd.DataFrame(list(zip(sub_directory,count)),columns =['Class', 'No. of Image'])\n",
    "\n",
    "df = class_distribution_count(data_dir_train)\n",
    "df"
   ]
  },
  {
   "cell_type": "code",
   "execution_count": null,
   "id": "6e8e24bd",
   "metadata": {},
   "outputs": [],
   "source": [
    "#Visualize the number of image in each class.\n",
    "\n",
    "import seaborn as sns\n",
    "plt.figure(figsize=(10, 8))\n",
    "sns.barplot(x=\"No. of Image\", y=\"Class\", data=df,\n",
    "            label=\"Class\")"
   ]
  },
  {
   "cell_type": "markdown",
   "id": "ce9c06fd",
   "metadata": {},
   "source": [
    "There is a class imbalance to solve this using a python package Augmentor (https://augmentor.readthedocs.io/en/master/) to add more samples across all classes so that none of the classes have very few samples."
   ]
  },
  {
   "cell_type": "code",
   "execution_count": null,
   "id": "13681548",
   "metadata": {},
   "outputs": [],
   "source": [
    "#Install Augmentor\n",
    "!pip install Augmentor"
   ]
  },
  {
   "cell_type": "code",
   "execution_count": null,
   "id": "5c5454ef",
   "metadata": {},
   "outputs": [],
   "source": [
    "path_to_training_dataset=\"/content/Skin cancer ISIC The International Skin Imaging Collaboration/Train/\"\n",
    "import Augmentor\n",
    "for i in class_names:\n",
    "    p = Augmentor.Pipeline(path_to_training_dataset + i)\n",
    "    p.rotate(probability=0.7, max_left_rotation=10, max_right_rotation=10)\n",
    "    p.sample(500)  #Adding 500 samples per class to make sure that none of the classes are sparse"
   ]
  },
  {
   "cell_type": "code",
   "execution_count": null,
   "id": "0927cc8a",
   "metadata": {},
   "outputs": [],
   "source": [
    "# Count total number of image generated by Augmentor.\n",
    "image_count_train = len(list(data_dir_train.glob('*/output/*.jpg')))\n",
    "print(image_count_train)"
   ]
  },
  {
   "cell_type": "markdown",
   "id": "3d3f4d94",
   "metadata": {},
   "source": [
    "### Model Building"
   ]
  },
  {
   "cell_type": "code",
   "execution_count": null,
   "id": "3513a7f6",
   "metadata": {},
   "outputs": [],
   "source": [
    "# Train dataset \n",
    "train_ds = tf.keras.preprocessing.image_dataset_from_directory(data_dir_train, batch_size=32,\n",
    "                                                               image_size=(180,180), label_mode='categorical',\n",
    "                                                               seed=123,subset=\"training\",\n",
    "                                                               validation_split=0.2)\n",
    "\n",
    "#label_mode is categorial, the labels are a float32 tensor of shape (batch_size, num_classes),\n",
    "#representing a one-hot encoding of the class index."
   ]
  },
  {
   "cell_type": "code",
   "execution_count": null,
   "id": "6da7e026",
   "metadata": {},
   "outputs": [],
   "source": [
    "# Validation dataset \n",
    "val_ds =tf.keras.preprocessing.image_dataset_from_directory(data_dir_train,batch_size=32,\n",
    "                                                            image_size=(180,180), label_mode='categorical',\n",
    "                                                            seed=123,subset=\"validation\",\n",
    "                                                            validation_split=0.2)"
   ]
  },
  {
   "cell_type": "code",
   "execution_count": null,
   "id": "17f1bec8",
   "metadata": {},
   "outputs": [],
   "source": [
    "#tf.data.experimental.AUTOTUNE defines appropriate number of processes that are free for working.\n",
    "\n",
    "#`Dataset.cache()` keeps the images in memory after they're loaded off disk during the first epoch.\n",
    "\n",
    "#`Dataset.prefetch()` overlaps data preprocessing and model execution while training.\n",
    "\n",
    "\n",
    "AUTOTUNE = tf.data.experimental.AUTOTUNE\n",
    "train_ds = train_ds.cache().shuffle(1000).prefetch(buffer_size=AUTOTUNE)\n",
    "val_ds = val_ds.cache().prefetch(buffer_size=AUTOTUNE)"
   ]
  },
  {
   "cell_type": "code",
   "execution_count": null,
   "id": "7438470c",
   "metadata": {},
   "outputs": [],
   "source": [
    "#CNN Model Architecture\n",
    "\n",
    "#Sequential allows you to create models layer-by-layer  \n",
    "model = Sequential()\n",
    "\n",
    "model.add(layers.experimental.preprocessing.Rescaling(1./255,input_shape=(180,180,3)))   #Rescaling Layer\n",
    "\n",
    "#First Convulation layer\n",
    "model.add(layers.Conv2D(32,kernel_size=(3,3),activation='relu'))\n",
    "model.add(layers.MaxPool2D(pool_size=(2,2)))\n",
    "\n",
    "#Second Convulation Layer\n",
    "model.add(layers.Conv2D(64,kernel_size=(3,3),activation='relu'))\n",
    "model.add(layers.MaxPool2D(pool_size=(2,2)))\n",
    "\n",
    "#Third Convulation Layer\n",
    "model.add(layers.Conv2D(128,kernel_size=(3,3),activation='relu'))\n",
    "model.add(layers.MaxPool2D(pool_size=(2,2)))\n",
    "\n",
    "#Dropout layer with 50% Fraction of the input units to drop.\n",
    "model.add(layers.Dropout(0.5))\n",
    "\n",
    "#Flatten Layer\n",
    "##Keras.layers.flatten function flattens the multi-dimensional input tensors into a single dimension.\n",
    "model.add(layers.Flatten())\n",
    "\n",
    "#Dense Layer\n",
    "model.add(layers.Dense(128,activation='relu'))\n",
    "\n",
    "#Dropout layer with 25% Fraction of the input units to drop.\n",
    "model.add(layers.Dropout(0.25))\n",
    "\n",
    "#Dense Layer with softmax activation function.\n",
    "#Softmax is an activation function that scales numbers/logits into probabilities.\n",
    "model.add(layers.Dense(len(class_names),activation='softmax'))\n",
    "\n",
    "model.summary()"
   ]
  },
  {
   "cell_type": "code",
   "execution_count": null,
   "id": "10061bad",
   "metadata": {},
   "outputs": [],
   "source": [
    "# Vizualizing the model \n",
    "from tensorflow.keras.utils import plot_model\n",
    "plot_model(model, to_file='model_plot.png', show_shapes=True, show_layer_names=True)"
   ]
  },
  {
   "cell_type": "code",
   "execution_count": null,
   "id": "08c72617",
   "metadata": {},
   "outputs": [],
   "source": [
    "# Compile the Model\n",
    "\n",
    "#Adam optimization: is a stochastic gradient descent method that is based on adaptive estimation of first-order and second-order moments.\n",
    "#categorical_crossentropy: Used as a loss function for multi-class classification model where there are two or more output labels.\n",
    "\n",
    "model.compile(optimizer=\"Adam\",loss=\"categorical_crossentropy\",metrics=[\"accuracy\"])\n",
    "\n",
    "#ModelCheckpoint callback is used in conjunction with training using model.fit() to save a model or weights (in a checkpoint file) at some interval,\n",
    "#so the model or weights can be loaded later to continue the training from the state saved.\n",
    "checkpoint = ModelCheckpoint(\"model.h5\",monitor=\"val_accuracy\",save_best_only=True,mode=\"auto\",verbose=1)\n",
    "\n",
    "#Stop training when a monitored metric has stopped improving.\n",
    "earlystop = EarlyStopping(monitor=\"val_accuracy\",patience=5,mode=\"auto\",verbose=1)"
   ]
  },
  {
   "cell_type": "code",
   "execution_count": null,
   "id": "7d3ef432",
   "metadata": {},
   "outputs": [],
   "source": [
    "# Train the model\n",
    "epochs = 20\n",
    "history = model.fit(train_ds, validation_data=val_ds, epochs=epochs,callbacks=[checkpoint,earlystop])"
   ]
  },
  {
   "cell_type": "code",
   "execution_count": null,
   "id": "4acac8a7",
   "metadata": {},
   "outputs": [],
   "source": [
    "# Plot the training curves\n",
    "\n",
    "epochs_range = range(earlystop.stopped_epoch+1)\n",
    "\n",
    "plt.figure(figsize=(15, 10))\n",
    "plt.subplot(1, 2, 1)\n",
    "\n",
    "#Plot Model Accuracy\n",
    "plt.plot(history.history['accuracy'])\n",
    "plt.plot(history.history['val_accuracy'])\n",
    "plt.title('model accuracy')\n",
    "plt.ylabel('accuracy')\n",
    "plt.xlabel(epochs_range)\n",
    "plt.legend(['train', 'val'], loc='upper left')\n",
    "\n",
    "#Plot Model Loss\n",
    "plt.subplot(1, 2, 2)\n",
    "plt.plot(history.history['loss'])\n",
    "plt.plot(history.history['val_loss'])\n",
    "plt.title('model loss')\n",
    "plt.ylabel('loss')\n",
    "plt.xlabel(epochs_range)\n",
    "plt.legend(['train', 'val'], loc='upper left')\n",
    "plt.show()"
   ]
  },
  {
   "cell_type": "markdown",
   "id": "bb632f00",
   "metadata": {},
   "source": [
    "### Model Prediction"
   ]
  },
  {
   "cell_type": "code",
   "execution_count": null,
   "id": "7596ea3f",
   "metadata": {},
   "outputs": [],
   "source": [
    "from glob import glob\n",
    "Test_image_path = os.path.join(data_dir_test, class_names[1], '*')\n",
    "Test_image = glob(Test_image_path)\n",
    "Test_image = load_img(Test_image[-1],target_size=(180,180,3))\n",
    "plt.imshow(Test_image)\n",
    "plt.grid(False)\n",
    "\n",
    "img = np.expand_dims(Test_image,axis=0)\n",
    "pred = model.predict(img)\n",
    "pred = np.argmax(pred)\n",
    "pred_class = class_names[pred]\n",
    "print(\"Actual Class \"+ class_names[1] +'\\n'+ \"Predictive Class \"+pred_class )"
   ]
  },
  {
   "cell_type": "code",
   "execution_count": null,
   "id": "8cd2588b",
   "metadata": {},
   "outputs": [],
   "source": []
  },
  {
   "cell_type": "code",
   "execution_count": null,
   "id": "dec29354",
   "metadata": {},
   "outputs": [],
   "source": []
  }
 ],
 "metadata": {
  "kernelspec": {
   "display_name": "Python 3 (ipykernel)",
   "language": "python",
   "name": "python3"
  },
  "language_info": {
   "codemirror_mode": {
    "name": "ipython",
    "version": 3
   },
   "file_extension": ".py",
   "mimetype": "text/x-python",
   "name": "python",
   "nbconvert_exporter": "python",
   "pygments_lexer": "ipython3",
   "version": "3.9.12"
  }
 },
 "nbformat": 4,
 "nbformat_minor": 5
}
